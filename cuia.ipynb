{
 "cells": [
  {
   "cell_type": "code",
   "execution_count": 1,
   "id": "6f10917a-6e0a-4683-8110-8a7e91a08981",
   "metadata": {},
   "outputs": [],
   "source": [
    "import cv2\n",
    "import numpy as np\n",
    "%matplotlib inline\n",
    "from matplotlib import pyplot as plt\n",
    "import time\n",
    "import os\n",
    "import requests"
   ]
  },
  {
   "cell_type": "code",
   "execution_count": 2,
   "id": "aa88ae5c-6091-4b36-b018-b7794e0986b3",
   "metadata": {
    "tags": []
   },
   "outputs": [],
   "source": [
    "def download(path, filename=None):\n",
    "    if filename is None:\n",
    "        nombre = os.path.basename(path)\n",
    "    else:\n",
    "        nombre = filename\n",
    "    if not os.path.exists(nombre):\n",
    "        open(nombre, 'wb').write(requests.get(path, allow_redirects=True).content)\n"
   ]
  },
  {
   "cell_type": "code",
   "execution_count": 3,
   "id": "f8fec2fe-0e2a-4db8-b2b7-43962aa0fd7b",
   "metadata": {
    "tags": []
   },
   "outputs": [],
   "source": [
    "def plot(image):\n",
    "    if len(image.shape)==2:\n",
    "        h, w = image.shape\n",
    "        c = 1\n",
    "    else:\n",
    "        h, w, c = image.shape\n",
    "    px = 1/plt.rcParams['figure.dpi']  # pixel in inches\n",
    "    plt.subplots(figsize=(h*px, w*px), layout='tight')\n",
    "    plt.axis('off')\n",
    "    if c==4:\n",
    "        plt.imshow( cv2.cvtColor(image, cv2.COLOR_BGRA2RGBA) )\n",
    "    elif c==1:\n",
    "        plt.imshow( image, cmap='gray' )\n",
    "    else:\n",
    "        plt.imshow( cv2.cvtColor(image, cv2.COLOR_BGR2RGB) )"
   ]
  },
  {
   "cell_type": "code",
   "execution_count": 2,
   "id": "2e346f58-74cb-4a68-9d8a-342067d69333",
   "metadata": {
    "tags": []
   },
   "outputs": [],
   "source": [
    "def bestBackend(camid):\n",
    "    backends = cv2.videoio_registry.getCameraBackends()\n",
    "    bestCap = 0\n",
    "    bestTime = 999\n",
    "    for b in backends:\n",
    "        start = time.time()\n",
    "        cam = cv2.VideoCapture(camid, b)\n",
    "        end = time.time()\n",
    "        if cam.isOpened():\n",
    "            if end-start < bestTime:\n",
    "                bestTime = end-start\n",
    "                bestCap = b\n",
    "            cam.release()\n",
    "    return bestCap"
   ]
  },
  {
   "cell_type": "code",
   "execution_count": 4,
   "id": "dd0f26ed-a7f6-4b9c-bec5-49b49af4e5c2",
   "metadata": {
    "tags": []
   },
   "outputs": [],
   "source": [
    "class myVideo:\n",
    "    def __init__(self, source, backend=cv2.CAP_ANY):\n",
    "        self.loop = False      #Para indicar si el video reiniciará al terminar\n",
    "        self.process = None    #Para indicar la función opcional de procesado de frames\n",
    "        if isinstance(source, str):\n",
    "            if os.path.exists(source):\n",
    "                self._cap = cv2.VideoCapture(source)\n",
    "                self._camera = False\n",
    "                self._nextFrame = 0\n",
    "                self._startTime = time.time()\n",
    "                self._fps = self._cap.get(cv2.CAP_PROP_FPS)\n",
    "                self._numFrames = self._cap.get(cv2.CAP_PROP_FRAME_COUNT)\n",
    "                self._currentFrame = None\n",
    "            else:\n",
    "                self._cap = cv2.VideoCapture(source)\n",
    "                self._camera = True #IP Camera\n",
    "        elif isinstance(source, int):\n",
    "            self._cap = cv2.VideoCapture(source, backend)\n",
    "            self._camera = True\n",
    "            \n",
    "    def __del__(self):\n",
    "        self._cap.release()\n",
    "        \n",
    "    def release(self):\n",
    "        self._cap.release()\n",
    "        del self\n",
    "        \n",
    "    def isOpened(self):\n",
    "        return self._cap.isOpened()\n",
    "    \n",
    "    def read(self):\n",
    "        if self._camera:\n",
    "            ret, frame = self._cap.read()\n",
    "            if ret and self.process != None:\n",
    "                frame = self.process(frame)\n",
    "            return(ret, frame)\n",
    "        else:\n",
    "            nextFrameStart = self._startTime + self._nextFrame / self._fps\n",
    "            nextFrameEnd = self._startTime + (self._nextFrame + 1) / self._fps\n",
    "            now = time.time()\n",
    "            if now <= nextFrameStart:\n",
    "                return (True, self._currentFrame)\n",
    "            else:\n",
    "                if now < nextFrameEnd:\n",
    "                    correctFrame = self._nextFrame\n",
    "                else:\n",
    "                    correctFrame = int((now - self._startTime) * self._fps)\n",
    "\n",
    "                if self.loop:\n",
    "                    correctFrame = correctFrame % self._numFrames\n",
    "                elif correctFrame >= self._numFrames:\n",
    "                    return (False, None)\n",
    "                \n",
    "                if correctFrame != self._nextFrame:\n",
    "                    self._cap.set(cv2.CAP_PROP_POS_FRAMES, correctFrame)\n",
    "                \n",
    "                ret, frame = self._cap.read()\n",
    "                if ret:\n",
    "                    self._currentFrame = frame\n",
    "                    self._nextFrame = correctFrame + 1\n",
    "                    if self.loop:\n",
    "                        self._nextFrame = self._nextFrame % self._numFrames\n",
    "                        \n",
    "                    if self.process != None:\n",
    "                        frame = self.process(frame)\n",
    "                return (ret, frame)\n",
    "            \n",
    "    def get(self, prop):\n",
    "        return(self._cap.get(prop))\n",
    "    \n",
    "    def set(self, prop, value):\n",
    "        if prop == cv2.CAP_PROP_POS_FRAMES:\n",
    "            self._nextFrame = value\n",
    "        return(self._cap.set(prop, value))\n",
    "    \n",
    "    def play(self, titulo, key=27):\n",
    "        cv2.namedWindow(titulo)\n",
    "        if self._cap.isOpened():\n",
    "            while True:\n",
    "                ret, frame = self.read()\n",
    "                if not ret or cv2.waitKey(20)==key: \n",
    "                    break\n",
    "                elif cv2.getWindowProperty(titulo, cv2.WND_PROP_VISIBLE) < 1: #Detenemos también si se cerró la ventana\n",
    "                    break\n",
    "                if frame is not None:\n",
    "                    cv2.imshow(titulo, frame)\n",
    "        cv2.destroyWindow(titulo)"
   ]
  }
 ],
 "metadata": {
  "kernelspec": {
   "display_name": "Python 3 (ipykernel)",
   "language": "python",
   "name": "python3"
  },
  "language_info": {
   "codemirror_mode": {
    "name": "ipython",
    "version": 3
   },
   "file_extension": ".py",
   "mimetype": "text/x-python",
   "name": "python",
   "nbconvert_exporter": "python",
   "pygments_lexer": "ipython3",
   "version": "3.11.3"
  }
 },
 "nbformat": 4,
 "nbformat_minor": 5
}
